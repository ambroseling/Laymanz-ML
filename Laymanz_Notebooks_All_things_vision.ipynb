{
  "nbformat": 4,
  "nbformat_minor": 0,
  "metadata": {
    "colab": {
      "provenance": []
    },
    "kernelspec": {
      "name": "python3",
      "display_name": "Python 3"
    },
    "language_info": {
      "name": "python"
    }
  },
  "cells": [
    {
      "cell_type": "code",
      "execution_count": null,
      "metadata": {
        "id": "lEgyFvv8nKCO"
      },
      "outputs": [],
      "source": []
    },
    {
      "cell_type": "code",
      "source": [],
      "metadata": {
        "id": "tqcaSK1snR_1"
      },
      "execution_count": null,
      "outputs": []
    },
    {
      "cell_type": "markdown",
      "source": [
        "# Laymanz Notebooks: Vision\n",
        "Author: Ambrose Ling\n",
        "\n",
        "**What is this notebook about?**\n",
        "\n",
        "In this notebook, we will go over some of the most fundamental ideas behind\n",
        "deep learning tasks related to vision. From image classification, to object\n",
        "detection, to segmentation tasks, to image generation, this notebook will allow you to understand the necessary concepts and skills required to build your own\n",
        "models to accomplisj these tasks\n",
        "\n",
        "**What do I need to set up my environment?**\n",
        "\n",
        "All of our notebooks will only use numpy, pytorch, matplotlib for visualizations. We will not use any other third-party libraries for model development, optimization or anything like that.\n",
        "\n",
        "**How is this notebook structured?**\n",
        "1.\n",
        "2.\n",
        "3.\n",
        "\n",
        "(will do after finishing)"
      ],
      "metadata": {
        "id": "MWhWEeT-nSPr"
      }
    },
    {
      "cell_type": "code",
      "source": [],
      "metadata": {
        "id": "FO5mG5fssK0K"
      },
      "execution_count": null,
      "outputs": []
    },
    {
      "cell_type": "markdown",
      "source": [
        "# Computer Vision\n",
        "\n",
        "In this era of artificial intelligence and deep learning, humans have become more and more fascinated by the idea of giving computers the ability to extract\n",
        "meaningful information from visual data, the ability to reason about visual data, and make informed decisions based on the visual data that is presented in front of the computer.\n",
        "\n",
        "## What does computer vision do?\n",
        "Brief summary, computer vision wishes to understand visual data such as images and videos. Some things computer vision can help you achieve:\n",
        "*  Segmentation: segments an image into different groups of pixels\n",
        "\n",
        "<center>\n",
        "<img src=\"https://upload.wikimedia.org/wikipedia/commons/d/d4/Image_segmentation.png\" width=300 height=250>\n",
        "</img>\n",
        "</center>\n",
        "\n",
        "<center>\n",
        "In the segmentation script, we partition a group of pixels into a certain group, assign a colour. You can think of giving a coloring book to a computer.\n",
        "It tries to color an object as 1 colour. For example, the computer would color\n",
        "the bus red, the street pink, the building yellow, the tree green. Doing so\n",
        "partitions the image into different groups of pixels.\n",
        "</center>\n",
        "\n",
        "*  Classification: assign a class to an image (given an image, tell me if its a dog or a cat)\n",
        "\n",
        "<center>\n",
        "<img src=\"https://cdn-media-1.freecodecamp.org/images/1*bt-E2YcPafjiPbZFDMMmNQ.jpeg\" width=400 height=190>\n",
        "</img>\n",
        "</center>\n",
        "- Classification refers to classifying an image into a class from a set number of classes. For example, we can train the computer (or machine learning model) to classify images into chihuahuas or muffins.\n",
        "\n",
        "*  Object Detection: detect certain objects given some image\n",
        "\n",
        "<center>\n",
        "<img src=\"https://miro.medium.com/v2/resize:fit:768/1*VXZ8CamGG2Z0M0N4t0Fmng.jpeg\" width=400 height=190></img>\n",
        "</center>\n",
        "- Object recognition and detection usually involves putting bounding boxes around certain objects\n",
        "in an image. We tell the computer to identify where the objects are and assign it a class label with some level of confidence. It is like the computer saying, \"Hey I am 95% sure that this is a bus, let me circle it\".\n",
        "\n",
        "*  Generation: generate new images from noise (diffusion models)\n",
        "Image generation refers to a machine learning system that is capable of generating any image you wish, it can be unconditioned (just tell it to generate anything) or conditioned (you give it a prompt like \"a picture of a dog with sunglasses\"). Laymanz ML has dedicated an entire notebook for diffusion models, so feel free to check that out."
      ],
      "metadata": {
        "id": "Zy2wC0a3sLNa"
      }
    },
    {
      "cell_type": "markdown",
      "source": [
        "# Data for vision\n",
        "\n",
        "In the world of vision, it has been a norm to represent visual information with\n",
        "images. Whether it is a picture of your dog, or the picture you take for your\n",
        "driver license. Images are eveywhere and we use it to represent the things we see.\n",
        "\n",
        "### What's so interesting about images?\n",
        "- Images have colours:\n",
        "  *\n",
        "- Images can display different objects:"
      ],
      "metadata": {
        "id": "aht4MnaZo1Bx"
      }
    },
    {
      "cell_type": "markdown",
      "source": [
        "# Image Proceesing\n",
        "\n"
      ],
      "metadata": {
        "id": "Y_yH6XRkr3r6"
      }
    },
    {
      "cell_type": "code",
      "source": [
        "# Lets load an image"
      ],
      "metadata": {
        "id": "YGNo7I8TozVf"
      },
      "execution_count": null,
      "outputs": []
    }
  ]
}