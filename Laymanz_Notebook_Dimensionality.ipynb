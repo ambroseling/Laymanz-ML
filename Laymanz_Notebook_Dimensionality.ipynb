{
 "cells": [
  {
   "cell_type": "code",
   "execution_count": null,
   "metadata": {},
   "outputs": [],
   "source": []
  },
  {
   "cell_type": "markdown",
   "metadata": {},
   "source": [
    "# Laymanz Notebooks: Dimensionality\n",
    "Author: Ali Ahmad & Amrbose Ling\n",
    "\n",
    "**Our goal is to get rid of abstractions and black boxes when learning about ML**\n",
    "\n",
    "**What is this notebook about?**\n",
    "\n",
    "In this notebook, we will go over some of the most common fundamental mathematical concepts used in Machine Learning, more specifically Deep Learning. We want these notebooks to be dense and concise. There will be interactive examples, coding exercises and a final challenge made just for you to set you up for success in the later notebooks!\n",
    "\n",
    "**What do I need to set up my environment?**\n",
    "\n",
    "All of our notebooks will only use numpy, pytorch, matplotlib for visualizations. If you are very eager to learn about what PyTorch is and how it works, check out this super detailed notebook on PyTorch! If you are running this on colab you can just import the packages, if you are running this notebook locally , just remember to `pip install numpy torch matplotlib`. Check [here](https://pytorch.org/get-started/locally/) to see which torch version depending on the hardware you have.\n",
    "\n",
    "**How is this notebook structured?**\n",
    "\n",
    "Each notebook will have\n",
    "\n",
    "[**How to use matplotlib for plotting**](https://colab.research.google.com/github/amanchadha/aman-ai/blob/master/matplotlib.ipynb#scrollTo=1-AcMM6NSmP-)\n",
    "\n",
    "\n",
    "## Breakdown\n",
    "*   Principal Component Analysis\n",
    "*   Singular Value Decomposition\n",
    "\n",
    "\n"
   ]
  },
  {
   "cell_type": "markdown",
   "metadata": {},
   "source": []
  }
 ],
 "metadata": {
  "language_info": {
   "name": "python"
  }
 },
 "nbformat": 4,
 "nbformat_minor": 2
}
