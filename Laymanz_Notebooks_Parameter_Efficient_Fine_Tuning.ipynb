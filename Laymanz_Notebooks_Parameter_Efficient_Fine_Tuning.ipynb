{
  "nbformat": 4,
  "nbformat_minor": 0,
  "metadata": {
    "colab": {
      "provenance": []
    },
    "kernelspec": {
      "name": "python3",
      "display_name": "Python 3"
    },
    "language_info": {
      "name": "python"
    }
  },
  "cells": [
    {
      "cell_type": "code",
      "execution_count": null,
      "metadata": {
        "id": "J874-cekCOCo"
      },
      "outputs": [],
      "source": []
    },
    {
      "cell_type": "markdown",
      "source": [
        "# Laymanz Notebooks: Diffusion Models\n",
        "Author: Ambrose Ling\n",
        "\n",
        "**What is this notebook about?**\n",
        "\n",
        "In this notebook, we will go over some of the most fundamental ideas behind parameter efficient fine-tuning, how they work and why they have been a major advancement in the field of computer vision and generative artifical intelligence. We hope that you can walk away capable of leveraging these techniques to fine-tune your own language models or diffusion models.\n",
        "\n",
        "**What do I need to set up my environment?**\n",
        "\n",
        "All of our notebooks will only use numpy, pytorch, matplotlib for visualizations. We will not use any other third-party libraries for model development, optimization or anything like that.\n",
        "\n",
        "**How is this notebook structured?**\n",
        "1.\n",
        "2.\n",
        "3.\n",
        "\n",
        "\n",
        "**Covered papers in this notebook**\n",
        "* LoRA\n",
        "* GaLoRE\n",
        "* DoRA\n",
        "\n",
        "\n",
        "(will do after finishing)"
      ],
      "metadata": {
        "id": "eMGa4otlDSEl"
      }
    },
    {
      "cell_type": "markdown",
      "source": [
        "## Low Rank Adaptation Fine Tuning (LoRA)\n",
        "\n",
        "**What is LoRA?**\n",
        "\n",
        "\n",
        "**How does it work?**"
      ],
      "metadata": {
        "id": "lRUf7dezEJr2"
      }
    },
    {
      "cell_type": "code",
      "source": [],
      "metadata": {
        "id": "ywo1YEmuEyrd"
      },
      "execution_count": null,
      "outputs": []
    },
    {
      "cell_type": "markdown",
      "source": [
        "## Weight Decomposition Low Rank Adaptation Fine Tuning (DoRA)\n",
        "\n",
        "**What is DoRA?**\n",
        "\n",
        "\n",
        "**How does it work?**"
      ],
      "metadata": {
        "id": "yulmMpvMEzKM"
      }
    },
    {
      "cell_type": "markdown",
      "source": [
        "##"
      ],
      "metadata": {
        "id": "YYS0U7txEkuw"
      }
    },
    {
      "cell_type": "code",
      "source": [],
      "metadata": {
        "id": "opP38IOGEJMU"
      },
      "execution_count": null,
      "outputs": []
    }
  ]
}