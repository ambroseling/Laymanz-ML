{
 "cells": [
  {
   "cell_type": "code",
   "execution_count": null,
   "metadata": {},
   "outputs": [],
   "source": []
  },
  {
   "cell_type": "markdown",
   "metadata": {},
   "source": [
    "# Laymanz Notebooks: Generative Adversarial Networks\n",
    "Author: Ambrose Ling\n",
    "\n",
    "**What is this notebook about?**\n",
    "\n",
    "In this notebook, we will go over some of the most fundamental ideas behind General Adversarial Networks, how they work and why they have been a major advancement in the field of computer vision and generative artifical intelligence. We hope that you can walk away capable of building your own GAN framework along with training your own model from scratch and understanding some of the core ideas that are trending in this field of research.\n",
    "\n",
    "**What do I need to set up my environment?**\n",
    "\n",
    "All of our notebooks will only use numpy, pytorch, matplotlib for visualizations. We will not use any other third-party libraries for model development, optimization or anything like that.\n",
    "\n",
    "**How is this notebook structured?**\n",
    "1.\n",
    "2.\n",
    "3.\n",
    "\n",
    "\n",
    "**Covered papers in this notebook**\n",
    "\n",
    "(will do after finishing)"
   ]
  },
  {
   "cell_type": "markdown",
   "metadata": {},
   "source": []
  }
 ],
 "metadata": {
  "language_info": {
   "name": "python"
  }
 },
 "nbformat": 4,
 "nbformat_minor": 2
}
